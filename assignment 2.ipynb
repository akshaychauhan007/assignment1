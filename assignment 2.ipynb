{
 "cells": [
  {
   "cell_type": "markdown",
   "id": "2a65e540",
   "metadata": {},
   "source": [
    "Que 1. two values are True , False\n",
    "   we write it as example, 1== 0 is False whereas 2>1 is True"
   ]
  },
  {
   "cell_type": "markdown",
   "id": "91bfa398",
   "metadata": {},
   "source": [
    "Que 2.The three basic boolean operators are: and , or , not ."
   ]
  },
  {
   "cell_type": "markdown",
   "id": "bf97f8ec",
   "metadata": {},
   "source": [
    "Que 3. truth teble for each operator:\n",
    "and :True and True =True,\n",
    "     True and False = false,\n",
    "     False and False = false,\n",
    "     \n",
    "or : True or True = True,\n",
    "     True or False = True,\n",
    "     False or False= False,\n",
    "     \n",
    "not: not True = False,\n",
    "     not False = True,"
   ]
  },
  {
   "cell_type": "markdown",
   "id": "8b043625",
   "metadata": {},
   "source": [
    "Que 4 . (5 > 4) and (3 == 5)=False,\n",
    "not (5 > 4)=False,     \n",
    "(5 > 4) or (3 == 5)=True,    \n",
    "not ((5 > 4) or (3 == 5))=False,    \n",
    "(True and True) and (True == False)=False,    \n",
    "(not False) or (not True)=True"
   ]
  },
  {
   "cell_type": "markdown",
   "id": "edab9850",
   "metadata": {},
   "source": [
    "Que 5. six comparison operators are :- ==,<,>,<=,>=,!="
   ]
  },
  {
   "cell_type": "markdown",
   "id": "60edeb77",
   "metadata": {},
   "source": [
    "Que 6. Equal to :- ==(This is used to checks  the two given operands are equal or not ) . Assignment:- = ( This is used to assign the value to a variable)"
   ]
  },
  {
   "cell_type": "code",
   "execution_count": 1,
   "id": "54ee581e",
   "metadata": {},
   "outputs": [
    {
     "name": "stdout",
     "output_type": "stream",
     "text": [
      "ham\n",
      "spam\n",
      "spam\n"
     ]
    }
   ],
   "source": [
    "spam = 0\n",
    "if spam == 10:\n",
    "    print('egg')\n",
    "if spam > 5:\n",
    "    print('bacon')\n",
    "else:\n",
    "    print('ham')\n",
    "    print('spam')\n",
    "    print('spam')"
   ]
  },
  {
   "cell_type": "markdown",
   "id": "b82f8e92",
   "metadata": {},
   "source": [
    "Que 7. spam = 0\n",
    "first block:-[if spam == 10:\n",
    "    print('egg')]\n",
    "second block:-[if spam > 5:\n",
    "    print('bacon')]\n",
    "third block:-[else:\n",
    "    print('ham')\n",
    "    print('spam')\n",
    "    print('spam')]"
   ]
  },
  {
   "cell_type": "code",
   "execution_count": 6,
   "id": "9ef623a9",
   "metadata": {},
   "outputs": [
    {
     "name": "stdout",
     "output_type": "stream",
     "text": [
      "enter the number1\n",
      "hello\n"
     ]
    }
   ],
   "source": [
    "#Que 8.\n",
    "spam = int(input('enter the number'))\n",
    "if spam == 1:\n",
    "    print('hello')\n",
    "elif spam== 2:\n",
    "    print('howdy')\n",
    "else:\n",
    "    print('greetings')"
   ]
  },
  {
   "cell_type": "markdown",
   "id": "05f211fa",
   "metadata": {},
   "source": [
    "Que 9. ctrl+c "
   ]
  },
  {
   "cell_type": "markdown",
   "id": "9d67086a",
   "metadata": {},
   "source": [
    "Que 10. Break:- break is used to terminate the loop . \n",
    "    Continue:- continue is used to continue the next iteration in the loop"
   ]
  },
  {
   "cell_type": "markdown",
   "id": "75a267c0",
   "metadata": {},
   "source": [
    "11.in for loop range(10), range(0, 10), and range(0, 10, 1) are same"
   ]
  },
  {
   "cell_type": "code",
   "execution_count": 10,
   "id": "3e30f426",
   "metadata": {},
   "outputs": [
    {
     "name": "stdout",
     "output_type": "stream",
     "text": [
      "1\n",
      "2\n",
      "3\n",
      "4\n",
      "5\n",
      "6\n",
      "7\n",
      "8\n",
      "9\n",
      "10\n",
      "1\n",
      "2\n",
      "3\n",
      "4\n",
      "5\n",
      "6\n",
      "7\n",
      "8\n",
      "9\n",
      "10\n"
     ]
    }
   ],
   "source": [
    "#Que 12.\n",
    "for i in range(1,11):\n",
    "    print(i)\n",
    "#using while loop\n",
    "a=1\n",
    "while a<11:\n",
    "    print(a)\n",
    "    a=a+1Que "
   ]
  },
  {
   "cell_type": "markdown",
   "id": "16ce7b6c",
   "metadata": {},
   "source": [
    "Que 13.  spam.bacon()"
   ]
  }
 ],
 "metadata": {
  "kernelspec": {
   "display_name": "Python 3",
   "language": "python",
   "name": "python3"
  },
  "language_info": {
   "codemirror_mode": {
    "name": "ipython",
    "version": 3
   },
   "file_extension": ".py",
   "mimetype": "text/x-python",
   "name": "python",
   "nbconvert_exporter": "python",
   "pygments_lexer": "ipython3",
   "version": "3.8.8"
  }
 },
 "nbformat": 4,
 "nbformat_minor": 5
}
