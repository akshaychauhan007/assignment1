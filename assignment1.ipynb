{
 "cells": [
  {
   "cell_type": "markdown",
   "id": "4c4eecbe",
   "metadata": {},
   "source": [
    "# Assignment1"
   ]
  },
  {
   "cell_type": "raw",
   "id": "05710855",
   "metadata": {},
   "source": [
    "1.  values are:- 'hello'  -87.6   6\n",
    "    expressions are :- * - / +\n"
   ]
  },
  {
   "cell_type": "raw",
   "id": "ce8e336f",
   "metadata": {},
   "source": [
    "2.  strings :- A string is a type of value(datatype) that can be stored in a variable.\n",
    "    variables:-Variables store information in a program , variables like a box or a container with a name on them ."
   ]
  },
  {
   "cell_type": "raw",
   "id": "ed0e0129",
   "metadata": {},
   "source": [
    "3.  int :- contains integer values example- 1,91,44,559,-5 etc\n",
    "    float :- contains floating point values example -87.6,45.3,0.9 etc"
   ]
  },
  {
   "cell_type": "raw",
   "id": "cb8b5824",
   "metadata": {},
   "source": [
    "4. An expression is made up with a name of a variable and values assigned to that variable for example a = 9 , b = 'hello' etc.\n",
    "   An expression evaluates to a value."
   ]
  },
  {
   "cell_type": "raw",
   "id": "6ed454cc",
   "metadata": {},
   "source": [
    "5. expression :- An expression evaluates to a value.\n",
    "   statement :- A statement executes something."
   ]
  },
  {
   "cell_type": "code",
   "execution_count": 3,
   "id": "c956bcb8",
   "metadata": {},
   "outputs": [
    {
     "data": {
      "text/plain": [
       "22"
      ]
     },
     "execution_count": 3,
     "metadata": {},
     "output_type": "execute_result"
    }
   ],
   "source": [
    "bacon = 22\n",
    "bacon + 1\n",
    "bacon"
   ]
  },
  {
   "cell_type": "raw",
   "id": "df646eac",
   "metadata": {},
   "source": [
    "6. bacon contains value 22"
   ]
  },
  {
   "cell_type": "code",
   "execution_count": 4,
   "id": "98841e9e",
   "metadata": {},
   "outputs": [
    {
     "data": {
      "text/plain": [
       "'spamspamspam'"
      ]
     },
     "execution_count": 4,
     "metadata": {},
     "output_type": "execute_result"
    }
   ],
   "source": [
    "'spam' + 'spamspam'"
   ]
  },
  {
   "cell_type": "code",
   "execution_count": 5,
   "id": "d55c915d",
   "metadata": {},
   "outputs": [
    {
     "data": {
      "text/plain": [
       "'spamspamspam'"
      ]
     },
     "execution_count": 5,
     "metadata": {},
     "output_type": "execute_result"
    }
   ],
   "source": [
    "'spam'*3"
   ]
  },
  {
   "cell_type": "raw",
   "id": "85180e9e",
   "metadata": {},
   "source": [
    "7. values should be 'spamspamspam'"
   ]
  },
  {
   "cell_type": "raw",
   "id": "b12efc7b",
   "metadata": {},
   "source": [
    "8. boolean, a string, a list, or a number are literals so that we cannot use 100 as a variable"
   ]
  },
  {
   "cell_type": "raw",
   "id": "e26adc22",
   "metadata": {},
   "source": [
    "9. str() , int() , and float() functions will get the string, integer, or floating-point number version of the values."
   ]
  },
  {
   "cell_type": "raw",
   "id": "c6331adf",
   "metadata": {},
   "source": [
    "10. 'I have eaten' + 99 +'burritos' will give an error because we cannot concatenate int with strings \n",
    "    to solve this problem first we have to change 99 to a string as following."
   ]
  },
  {
   "cell_type": "code",
   "execution_count": 8,
   "id": "6b662c03",
   "metadata": {},
   "outputs": [
    {
     "data": {
      "text/plain": [
       "'I have eaten99burritos'"
      ]
     },
     "execution_count": 8,
     "metadata": {},
     "output_type": "execute_result"
    }
   ],
   "source": [
    "'I have eaten' + str(99) +'burritos'"
   ]
  }
 ],
 "metadata": {
  "kernelspec": {
   "display_name": "Python 3",
   "language": "python",
   "name": "python3"
  },
  "language_info": {
   "codemirror_mode": {
    "name": "ipython",
    "version": 3
   },
   "file_extension": ".py",
   "mimetype": "text/x-python",
   "name": "python",
   "nbconvert_exporter": "python",
   "pygments_lexer": "ipython3",
   "version": "3.8.8"
  }
 },
 "nbformat": 4,
 "nbformat_minor": 5
}
